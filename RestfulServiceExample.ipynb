{
 "cells": [
  {
   "cell_type": "code",
   "execution_count": 7,
   "metadata": {},
   "outputs": [],
   "source": [
    "import requests\n",
    "import json\n",
    "import pandas as pd"
   ]
  },
  {
   "cell_type": "code",
   "execution_count": 28,
   "metadata": {},
   "outputs": [],
   "source": [
    "data = {'unique_offer_clicked':[2,4,2,6], \n",
    "        'total_offer_clicks':[3,1,4,7],\n",
    "        'unique_offer_rides':[6,6,2,1], \n",
    "        'total_offer_rides':[66,198,34,77],\n",
    "        'total_offers_claimed':[5,6,4,6]\n",
    "       } \n",
    " \n",
    "new_sample = pd.DataFrame(data)"
   ]
  },
  {
   "cell_type": "code",
   "execution_count": 29,
   "metadata": {},
   "outputs": [
    {
     "data": {
      "text/html": [
       "<div>\n",
       "<style scoped>\n",
       "    .dataframe tbody tr th:only-of-type {\n",
       "        vertical-align: middle;\n",
       "    }\n",
       "\n",
       "    .dataframe tbody tr th {\n",
       "        vertical-align: top;\n",
       "    }\n",
       "\n",
       "    .dataframe thead th {\n",
       "        text-align: right;\n",
       "    }\n",
       "</style>\n",
       "<table border=\"1\" class=\"dataframe\">\n",
       "  <thead>\n",
       "    <tr style=\"text-align: right;\">\n",
       "      <th></th>\n",
       "      <th>unique_offer_clicked</th>\n",
       "      <th>total_offer_clicks</th>\n",
       "      <th>unique_offer_rides</th>\n",
       "      <th>total_offer_rides</th>\n",
       "      <th>total_offers_claimed</th>\n",
       "    </tr>\n",
       "  </thead>\n",
       "  <tbody>\n",
       "    <tr>\n",
       "      <th>0</th>\n",
       "      <td>2</td>\n",
       "      <td>3</td>\n",
       "      <td>6</td>\n",
       "      <td>66</td>\n",
       "      <td>5</td>\n",
       "    </tr>\n",
       "    <tr>\n",
       "      <th>1</th>\n",
       "      <td>4</td>\n",
       "      <td>1</td>\n",
       "      <td>6</td>\n",
       "      <td>198</td>\n",
       "      <td>6</td>\n",
       "    </tr>\n",
       "    <tr>\n",
       "      <th>2</th>\n",
       "      <td>2</td>\n",
       "      <td>4</td>\n",
       "      <td>2</td>\n",
       "      <td>34</td>\n",
       "      <td>4</td>\n",
       "    </tr>\n",
       "    <tr>\n",
       "      <th>3</th>\n",
       "      <td>6</td>\n",
       "      <td>7</td>\n",
       "      <td>1</td>\n",
       "      <td>77</td>\n",
       "      <td>6</td>\n",
       "    </tr>\n",
       "  </tbody>\n",
       "</table>\n",
       "</div>"
      ],
      "text/plain": [
       "   unique_offer_clicked  total_offer_clicks  unique_offer_rides  \\\n",
       "0                     2                   3                   6   \n",
       "1                     4                   1                   6   \n",
       "2                     2                   4                   2   \n",
       "3                     6                   7                   1   \n",
       "\n",
       "   total_offer_rides  total_offers_claimed  \n",
       "0                 66                     5  \n",
       "1                198                     6  \n",
       "2                 34                     4  \n",
       "3                 77                     6  "
      ]
     },
     "execution_count": 29,
     "metadata": {},
     "output_type": "execute_result"
    }
   ],
   "source": [
    "new_sample.head()"
   ]
  },
  {
   "cell_type": "code",
   "execution_count": 30,
   "metadata": {},
   "outputs": [],
   "source": [
    "def getDetection(sample):\n",
    "    dict = {}\n",
    "    dict['unique_offer_clicked'] = sample['unique_offer_clicked'].tolist()[0]\n",
    "    dict['total_offer_clicks'] = sample['total_offer_clicks'].tolist()[0]\n",
    "    dict['unique_offer_rides'] = sample['unique_offer_rides'].tolist()[0]\n",
    "    dict['total_offer_rides'] = sample['total_offer_rides'].tolist()[0]\n",
    "    dict['total_offers_claimed'] = sample['total_offers_claimed'].tolist()[0]\n",
    "    json_string = json.dumps(dict)\n",
    "    inputs = {'features':json_string}\n",
    "    \n",
    "    r = requests.post('http://0.0.0.0:3838/detector', data = inputs)\n",
    "    print(r.text)\n",
    "    "
   ]
  },
  {
   "cell_type": "code",
   "execution_count": 32,
   "metadata": {},
   "outputs": [
    {
     "name": "stdout",
     "output_type": "stream",
     "text": [
      "{\"cluster\": \"2\", \"outlier_labels\": \"0\"}\n",
      "{\"cluster\": \"1\", \"outlier_labels\": \"1\"}\n",
      "{\"cluster\": \"2\", \"outlier_labels\": \"0\"}\n",
      "{\"cluster\": \"2\", \"outlier_labels\": \"1\"}\n"
     ]
    }
   ],
   "source": [
    "for i in range(len(new_sample)):\n",
    "\n",
    "    curr_sample = new_sample[new_sample.index == i]\n",
    "    getDetection(curr_sample)"
   ]
  },
  {
   "cell_type": "code",
   "execution_count": null,
   "metadata": {},
   "outputs": [],
   "source": []
  }
 ],
 "metadata": {
  "kernelspec": {
   "display_name": "Python 3",
   "language": "python",
   "name": "python3"
  },
  "language_info": {
   "codemirror_mode": {
    "name": "ipython",
    "version": 3
   },
   "file_extension": ".py",
   "mimetype": "text/x-python",
   "name": "python",
   "nbconvert_exporter": "python",
   "pygments_lexer": "ipython3",
   "version": "3.7.3"
  }
 },
 "nbformat": 4,
 "nbformat_minor": 2
}
