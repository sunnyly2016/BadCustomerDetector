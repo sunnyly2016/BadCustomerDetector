{
 "cells": [
  {
   "cell_type": "code",
   "execution_count": 34,
   "metadata": {},
   "outputs": [],
   "source": [
    "from BadCustomerDetector.BadCustomerDetection import BadCustomerDetection as bcd\n",
    "import pandas as pd\n",
    "import numpy as np"
   ]
  },
  {
   "cell_type": "code",
   "execution_count": 35,
   "metadata": {},
   "outputs": [],
   "source": [
    "df = pd.read_csv('./test/unique_consumers.csv')\n",
    "detector = bcd()"
   ]
  },
  {
   "cell_type": "code",
   "execution_count": 36,
   "metadata": {},
   "outputs": [],
   "source": [
    "kmeans_sel, scaler, detectors_list, outliers = detector.bad_customer_detector(df, method = 'KNN')"
   ]
  },
  {
   "cell_type": "code",
   "execution_count": 38,
   "metadata": {},
   "outputs": [
    {
     "data": {
      "text/plain": [
       "(9888, 6)"
      ]
     },
     "execution_count": 38,
     "metadata": {},
     "output_type": "execute_result"
    }
   ],
   "source": [
    "df.shape"
   ]
  },
  {
   "cell_type": "code",
   "execution_count": 37,
   "metadata": {},
   "outputs": [
    {
     "data": {
      "text/plain": [
       "393"
      ]
     },
     "execution_count": 37,
     "metadata": {},
     "output_type": "execute_result"
    }
   ],
   "source": [
    "sum(outliers.KNN_Decision)"
   ]
  },
  {
   "cell_type": "code",
   "execution_count": 4,
   "metadata": {},
   "outputs": [
    {
     "data": {
      "text/html": [
       "<div>\n",
       "<style scoped>\n",
       "    .dataframe tbody tr th:only-of-type {\n",
       "        vertical-align: middle;\n",
       "    }\n",
       "\n",
       "    .dataframe tbody tr th {\n",
       "        vertical-align: top;\n",
       "    }\n",
       "\n",
       "    .dataframe thead th {\n",
       "        text-align: right;\n",
       "    }\n",
       "</style>\n",
       "<table border=\"1\" class=\"dataframe\">\n",
       "  <thead>\n",
       "    <tr style=\"text-align: right;\">\n",
       "      <th></th>\n",
       "      <th>consumer_id</th>\n",
       "      <th>unique_offer_clicked</th>\n",
       "      <th>total_offer_clicks</th>\n",
       "      <th>unique_offer_rides</th>\n",
       "      <th>total_offer_rides</th>\n",
       "      <th>total_offers_claimed</th>\n",
       "      <th>Cluster</th>\n",
       "      <th>CBLOF</th>\n",
       "      <th>CBLOF_Decision</th>\n",
       "      <th>FB</th>\n",
       "      <th>FB_Decision</th>\n",
       "      <th>HBOS</th>\n",
       "      <th>HBOS_Decision</th>\n",
       "      <th>IF</th>\n",
       "      <th>IF_Decision</th>\n",
       "      <th>KNN</th>\n",
       "      <th>KNN_Decision</th>\n",
       "      <th>bad_customer</th>\n",
       "    </tr>\n",
       "  </thead>\n",
       "  <tbody>\n",
       "    <tr>\n",
       "      <th>5</th>\n",
       "      <td>811625dc-6e1e-476f-bdc2-359b0b0abe20</td>\n",
       "      <td>1</td>\n",
       "      <td>1</td>\n",
       "      <td>1</td>\n",
       "      <td>7</td>\n",
       "      <td>1</td>\n",
       "      <td>1</td>\n",
       "      <td>3.063257</td>\n",
       "      <td>0</td>\n",
       "      <td>1.328391e+09</td>\n",
       "      <td>0</td>\n",
       "      <td>3.327619</td>\n",
       "      <td>0</td>\n",
       "      <td>0.007772</td>\n",
       "      <td>0</td>\n",
       "      <td>2.236068</td>\n",
       "      <td>1</td>\n",
       "      <td>1</td>\n",
       "    </tr>\n",
       "    <tr>\n",
       "      <th>110</th>\n",
       "      <td>3b69e4b3-d33a-4149-82e9-3553df6d2391</td>\n",
       "      <td>1</td>\n",
       "      <td>1</td>\n",
       "      <td>9</td>\n",
       "      <td>80</td>\n",
       "      <td>1</td>\n",
       "      <td>1</td>\n",
       "      <td>41.178442</td>\n",
       "      <td>1</td>\n",
       "      <td>1.042058e+00</td>\n",
       "      <td>0</td>\n",
       "      <td>3.397968</td>\n",
       "      <td>0</td>\n",
       "      <td>0.074024</td>\n",
       "      <td>0</td>\n",
       "      <td>2.236068</td>\n",
       "      <td>1</td>\n",
       "      <td>1</td>\n",
       "    </tr>\n",
       "    <tr>\n",
       "      <th>143</th>\n",
       "      <td>6c6c0ac3-5adb-4ed8-94c0-359b30efecf3</td>\n",
       "      <td>2</td>\n",
       "      <td>4</td>\n",
       "      <td>14</td>\n",
       "      <td>219</td>\n",
       "      <td>1</td>\n",
       "      <td>0</td>\n",
       "      <td>15.653164</td>\n",
       "      <td>1</td>\n",
       "      <td>1.219954e+00</td>\n",
       "      <td>0</td>\n",
       "      <td>8.008764</td>\n",
       "      <td>0</td>\n",
       "      <td>0.098007</td>\n",
       "      <td>1</td>\n",
       "      <td>10.392305</td>\n",
       "      <td>1</td>\n",
       "      <td>1</td>\n",
       "    </tr>\n",
       "    <tr>\n",
       "      <th>172</th>\n",
       "      <td>e1b20cd2-74de-4f76-ae20-358a7a53988a</td>\n",
       "      <td>6</td>\n",
       "      <td>10</td>\n",
       "      <td>9</td>\n",
       "      <td>25</td>\n",
       "      <td>1</td>\n",
       "      <td>0</td>\n",
       "      <td>7.366031</td>\n",
       "      <td>0</td>\n",
       "      <td>1.424336e+00</td>\n",
       "      <td>0</td>\n",
       "      <td>10.738837</td>\n",
       "      <td>0</td>\n",
       "      <td>0.080343</td>\n",
       "      <td>1</td>\n",
       "      <td>4.358899</td>\n",
       "      <td>1</td>\n",
       "      <td>1</td>\n",
       "    </tr>\n",
       "    <tr>\n",
       "      <th>201</th>\n",
       "      <td>ee705b24-a72e-42b1-8afd-359a744002fd</td>\n",
       "      <td>1</td>\n",
       "      <td>2</td>\n",
       "      <td>17</td>\n",
       "      <td>147</td>\n",
       "      <td>1</td>\n",
       "      <td>0</td>\n",
       "      <td>8.857446</td>\n",
       "      <td>0</td>\n",
       "      <td>1.175548e+00</td>\n",
       "      <td>0</td>\n",
       "      <td>10.833238</td>\n",
       "      <td>0</td>\n",
       "      <td>0.143772</td>\n",
       "      <td>1</td>\n",
       "      <td>5.385165</td>\n",
       "      <td>1</td>\n",
       "      <td>1</td>\n",
       "    </tr>\n",
       "    <tr>\n",
       "      <th>...</th>\n",
       "      <td>...</td>\n",
       "      <td>...</td>\n",
       "      <td>...</td>\n",
       "      <td>...</td>\n",
       "      <td>...</td>\n",
       "      <td>...</td>\n",
       "      <td>...</td>\n",
       "      <td>...</td>\n",
       "      <td>...</td>\n",
       "      <td>...</td>\n",
       "      <td>...</td>\n",
       "      <td>...</td>\n",
       "      <td>...</td>\n",
       "      <td>...</td>\n",
       "      <td>...</td>\n",
       "      <td>...</td>\n",
       "      <td>...</td>\n",
       "      <td>...</td>\n",
       "    </tr>\n",
       "    <tr>\n",
       "      <th>9854</th>\n",
       "      <td>34f503d9-54ff-40a7-acff-359d026a3841</td>\n",
       "      <td>4</td>\n",
       "      <td>15</td>\n",
       "      <td>4</td>\n",
       "      <td>88</td>\n",
       "      <td>2</td>\n",
       "      <td>0</td>\n",
       "      <td>14.312159</td>\n",
       "      <td>1</td>\n",
       "      <td>1.278953e+00</td>\n",
       "      <td>0</td>\n",
       "      <td>11.032875</td>\n",
       "      <td>1</td>\n",
       "      <td>0.081765</td>\n",
       "      <td>1</td>\n",
       "      <td>4.690416</td>\n",
       "      <td>1</td>\n",
       "      <td>1</td>\n",
       "    </tr>\n",
       "    <tr>\n",
       "      <th>9860</th>\n",
       "      <td>d9a122f9-7fa5-474c-9e70-359c0f1f24a4</td>\n",
       "      <td>1</td>\n",
       "      <td>1</td>\n",
       "      <td>9</td>\n",
       "      <td>80</td>\n",
       "      <td>1</td>\n",
       "      <td>1</td>\n",
       "      <td>41.178442</td>\n",
       "      <td>1</td>\n",
       "      <td>1.042058e+00</td>\n",
       "      <td>0</td>\n",
       "      <td>3.397968</td>\n",
       "      <td>0</td>\n",
       "      <td>0.074024</td>\n",
       "      <td>0</td>\n",
       "      <td>2.236068</td>\n",
       "      <td>1</td>\n",
       "      <td>1</td>\n",
       "    </tr>\n",
       "    <tr>\n",
       "      <th>9863</th>\n",
       "      <td>5e729e7b-fb39-4f5a-8072-359b608d3d63</td>\n",
       "      <td>6</td>\n",
       "      <td>11</td>\n",
       "      <td>9</td>\n",
       "      <td>98</td>\n",
       "      <td>1</td>\n",
       "      <td>0</td>\n",
       "      <td>9.779952</td>\n",
       "      <td>0</td>\n",
       "      <td>1.222187e+00</td>\n",
       "      <td>0</td>\n",
       "      <td>10.816078</td>\n",
       "      <td>0</td>\n",
       "      <td>0.085771</td>\n",
       "      <td>1</td>\n",
       "      <td>4.242641</td>\n",
       "      <td>1</td>\n",
       "      <td>1</td>\n",
       "    </tr>\n",
       "    <tr>\n",
       "      <th>9871</th>\n",
       "      <td>faf590c6-a4b6-4fa5-9f83-359b9dabd028</td>\n",
       "      <td>10</td>\n",
       "      <td>42</td>\n",
       "      <td>16</td>\n",
       "      <td>420</td>\n",
       "      <td>4</td>\n",
       "      <td>2</td>\n",
       "      <td>60.865235</td>\n",
       "      <td>1</td>\n",
       "      <td>1.176204e+00</td>\n",
       "      <td>0</td>\n",
       "      <td>13.863527</td>\n",
       "      <td>1</td>\n",
       "      <td>0.189655</td>\n",
       "      <td>1</td>\n",
       "      <td>17.635192</td>\n",
       "      <td>1</td>\n",
       "      <td>1</td>\n",
       "    </tr>\n",
       "    <tr>\n",
       "      <th>9882</th>\n",
       "      <td>07df41be-0216-4500-9b93-359c08d996c9</td>\n",
       "      <td>1</td>\n",
       "      <td>12</td>\n",
       "      <td>4</td>\n",
       "      <td>152</td>\n",
       "      <td>1</td>\n",
       "      <td>0</td>\n",
       "      <td>13.561257</td>\n",
       "      <td>1</td>\n",
       "      <td>1.300842e+00</td>\n",
       "      <td>0</td>\n",
       "      <td>10.407504</td>\n",
       "      <td>0</td>\n",
       "      <td>0.143397</td>\n",
       "      <td>1</td>\n",
       "      <td>6.164414</td>\n",
       "      <td>1</td>\n",
       "      <td>1</td>\n",
       "    </tr>\n",
       "  </tbody>\n",
       "</table>\n",
       "<p>393 rows × 18 columns</p>\n",
       "</div>"
      ],
      "text/plain": [
       "                               consumer_id  unique_offer_clicked  \\\n",
       "5     811625dc-6e1e-476f-bdc2-359b0b0abe20                     1   \n",
       "110   3b69e4b3-d33a-4149-82e9-3553df6d2391                     1   \n",
       "143   6c6c0ac3-5adb-4ed8-94c0-359b30efecf3                     2   \n",
       "172   e1b20cd2-74de-4f76-ae20-358a7a53988a                     6   \n",
       "201   ee705b24-a72e-42b1-8afd-359a744002fd                     1   \n",
       "...                                    ...                   ...   \n",
       "9854  34f503d9-54ff-40a7-acff-359d026a3841                     4   \n",
       "9860  d9a122f9-7fa5-474c-9e70-359c0f1f24a4                     1   \n",
       "9863  5e729e7b-fb39-4f5a-8072-359b608d3d63                     6   \n",
       "9871  faf590c6-a4b6-4fa5-9f83-359b9dabd028                    10   \n",
       "9882  07df41be-0216-4500-9b93-359c08d996c9                     1   \n",
       "\n",
       "      total_offer_clicks  unique_offer_rides  total_offer_rides  \\\n",
       "5                      1                   1                  7   \n",
       "110                    1                   9                 80   \n",
       "143                    4                  14                219   \n",
       "172                   10                   9                 25   \n",
       "201                    2                  17                147   \n",
       "...                  ...                 ...                ...   \n",
       "9854                  15                   4                 88   \n",
       "9860                   1                   9                 80   \n",
       "9863                  11                   9                 98   \n",
       "9871                  42                  16                420   \n",
       "9882                  12                   4                152   \n",
       "\n",
       "      total_offers_claimed  Cluster      CBLOF  CBLOF_Decision            FB  \\\n",
       "5                        1        1   3.063257               0  1.328391e+09   \n",
       "110                      1        1  41.178442               1  1.042058e+00   \n",
       "143                      1        0  15.653164               1  1.219954e+00   \n",
       "172                      1        0   7.366031               0  1.424336e+00   \n",
       "201                      1        0   8.857446               0  1.175548e+00   \n",
       "...                    ...      ...        ...             ...           ...   \n",
       "9854                     2        0  14.312159               1  1.278953e+00   \n",
       "9860                     1        1  41.178442               1  1.042058e+00   \n",
       "9863                     1        0   9.779952               0  1.222187e+00   \n",
       "9871                     4        2  60.865235               1  1.176204e+00   \n",
       "9882                     1        0  13.561257               1  1.300842e+00   \n",
       "\n",
       "      FB_Decision       HBOS  HBOS_Decision        IF  IF_Decision        KNN  \\\n",
       "5               0   3.327619              0  0.007772            0   2.236068   \n",
       "110             0   3.397968              0  0.074024            0   2.236068   \n",
       "143             0   8.008764              0  0.098007            1  10.392305   \n",
       "172             0  10.738837              0  0.080343            1   4.358899   \n",
       "201             0  10.833238              0  0.143772            1   5.385165   \n",
       "...           ...        ...            ...       ...          ...        ...   \n",
       "9854            0  11.032875              1  0.081765            1   4.690416   \n",
       "9860            0   3.397968              0  0.074024            0   2.236068   \n",
       "9863            0  10.816078              0  0.085771            1   4.242641   \n",
       "9871            0  13.863527              1  0.189655            1  17.635192   \n",
       "9882            0  10.407504              0  0.143397            1   6.164414   \n",
       "\n",
       "      KNN_Decision  bad_customer  \n",
       "5                1             1  \n",
       "110              1             1  \n",
       "143              1             1  \n",
       "172              1             1  \n",
       "201              1             1  \n",
       "...            ...           ...  \n",
       "9854             1             1  \n",
       "9860             1             1  \n",
       "9863             1             1  \n",
       "9871             1             1  \n",
       "9882             1             1  \n",
       "\n",
       "[393 rows x 18 columns]"
      ]
     },
     "execution_count": 4,
     "metadata": {},
     "output_type": "execute_result"
    }
   ],
   "source": [
    "outliers[outliers.KNN_Decision == 1]"
   ]
  },
  {
   "cell_type": "code",
   "execution_count": 39,
   "metadata": {},
   "outputs": [],
   "source": [
    "data = {'unique_offer_clicked':[3,9,1], \n",
    "        'total_offer_clicks':[3,4,1],\n",
    "        'unique_offer_rides':[8,5,1], \n",
    "        'total_offer_rides':[52,58,7],\n",
    "        'total_offers_claimed':[1,3,1]\n",
    "       } \n",
    "new_sample = pd.DataFrame(data)"
   ]
  },
  {
   "cell_type": "code",
   "execution_count": 40,
   "metadata": {},
   "outputs": [],
   "source": [
    "new_sample_log = np.log(new_sample)\n",
    "new_sample_scaled = scaler.transform(new_sample_log)"
   ]
  },
  {
   "cell_type": "markdown",
   "metadata": {},
   "source": [
    "### Predict Clusters"
   ]
  },
  {
   "cell_type": "code",
   "execution_count": 41,
   "metadata": {},
   "outputs": [],
   "source": [
    "cluster_prediction = kmeans_sel.predict(new_sample_scaled)"
   ]
  },
  {
   "cell_type": "code",
   "execution_count": 42,
   "metadata": {},
   "outputs": [
    {
     "data": {
      "text/plain": [
       "array([0, 2, 1], dtype=int32)"
      ]
     },
     "execution_count": 42,
     "metadata": {},
     "output_type": "execute_result"
    }
   ],
   "source": [
    "cluster_prediction"
   ]
  },
  {
   "cell_type": "markdown",
   "metadata": {},
   "source": [
    "### Identify outliers"
   ]
  },
  {
   "cell_type": "code",
   "execution_count": 44,
   "metadata": {},
   "outputs": [],
   "source": [
    "outlier_labels = []\n",
    "for k in range(len(new_sample)):\n",
    "    curr_data = new_sample[new_sample.index == k]\n",
    "    outlier_detection = detectors_list[cluster_prediction[k]]\n",
    "    outlier_labels.append(outlier_detection.predict(curr_data)[0])"
   ]
  },
  {
   "cell_type": "code",
   "execution_count": 45,
   "metadata": {
    "scrolled": true
   },
   "outputs": [
    {
     "data": {
      "text/plain": [
       "[0, 0, 1]"
      ]
     },
     "execution_count": 45,
     "metadata": {},
     "output_type": "execute_result"
    }
   ],
   "source": [
    "outlier_labels"
   ]
  },
  {
   "cell_type": "code",
   "execution_count": null,
   "metadata": {},
   "outputs": [],
   "source": []
  }
 ],
 "metadata": {
  "kernelspec": {
   "display_name": "Python 3",
   "language": "python",
   "name": "python3"
  },
  "language_info": {
   "codemirror_mode": {
    "name": "ipython",
    "version": 3
   },
   "file_extension": ".py",
   "mimetype": "text/x-python",
   "name": "python",
   "nbconvert_exporter": "python",
   "pygments_lexer": "ipython3",
   "version": "3.7.3"
  }
 },
 "nbformat": 4,
 "nbformat_minor": 2
}
